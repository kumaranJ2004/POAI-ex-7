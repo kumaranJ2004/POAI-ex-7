{
  "nbformat": 4,
  "nbformat_minor": 0,
  "metadata": {
    "colab": {
      "provenance": [],
      "authorship_tag": "ABX9TyNDTNrTXFME0Msu/qdUcS6G",
      "include_colab_link": true
    },
    "kernelspec": {
      "name": "python3",
      "display_name": "Python 3"
    },
    "language_info": {
      "name": "python"
    }
  },
  "cells": [
    {
      "cell_type": "markdown",
      "metadata": {
        "id": "view-in-github",
        "colab_type": "text"
      },
      "source": [
        "<a href=\"https://colab.research.google.com/github/kumaranJ2004/POAI-ex-7/blob/main/Untitled5.ipynb\" target=\"_parent\"><img src=\"https://colab.research.google.com/assets/colab-badge.svg\" alt=\"Open In Colab\"/></a>"
      ]
    },
    {
      "cell_type": "code",
      "execution_count": 1,
      "metadata": {
        "colab": {
          "base_uri": "https://localhost:8080/"
        },
        "id": "BJbYXm14shJ7",
        "outputId": "6f386fbd-e7aa-4e89-bf45-8233e53979c7"
      },
      "outputs": [
        {
          "output_type": "stream",
          "name": "stdout",
          "text": [
            "\n",
            "=== Backward Chaining ===\n",
            "Trying to prove: have_fun\n",
            "Trying rule: have_fun <- ['go_outside']\n",
            "  Trying to prove: go_outside\n",
            "  Trying rule: go_outside <- ['sunny', 'weekend']\n",
            "    Trying to prove: sunny\n",
            "    ✓ Already known: sunny\n",
            "    Trying to prove: weekend\n",
            "    ✓ Already known: weekend\n",
            "  ✓ Proven by rule: go_outside <- ['sunny', 'weekend']\n",
            "✓ Proven by rule: have_fun <- ['go_outside']\n",
            "\n",
            "Conclusion: have_fun is TRUE\n"
          ]
        }
      ],
      "source": [
        "def backward_chaining(rules, facts, goal, indent=0):\n",
        "    prefix = \"  \" * indent\n",
        "    print(f\"{prefix}Trying to prove: {goal}\")\n",
        "\n",
        "    # If the goal is already a known fact\n",
        "    if goal in facts:\n",
        "        print(f\"{prefix}✓ Already known: {goal}\")\n",
        "        return True\n",
        "\n",
        "    # Find rules that conclude the goal\n",
        "    applicable_rules = [rule for rule in rules if rule[0] == goal]\n",
        "\n",
        "    for conclusion, premises in applicable_rules:\n",
        "        print(f\"{prefix}Trying rule: {conclusion} <- {premises}\")\n",
        "        all_proven = True\n",
        "        for premise in premises:\n",
        "            if not backward_chaining(rules, facts, premise, indent + 1):\n",
        "                all_proven = False\n",
        "                break\n",
        "        if all_proven:\n",
        "            print(f\"{prefix}✓ Proven by rule: {conclusion} <- {premises}\")\n",
        "            facts.append(goal)  # Add to facts to avoid re-checking\n",
        "            return True\n",
        "\n",
        "    print(f\"{prefix}✗ Cannot prove: {goal}\")\n",
        "    return False\n",
        "\n",
        "# --- Demo ---\n",
        "\n",
        "# Facts: things we already know\n",
        "facts = [\"sunny\", \"weekend\"]\n",
        "\n",
        "# Rules: (conclusion, [premises])\n",
        "rules = [\n",
        "    (\"go_outside\", [\"sunny\", \"weekend\"]),\n",
        "    (\"have_fun\", [\"go_outside\"]),\n",
        "    (\"get_sunburn\", [\"sunny\", \"go_outside\"])\n",
        "]\n",
        "\n",
        "# Goal to prove\n",
        "goal = \"have_fun\"\n",
        "\n",
        "# Run backward chaining\n",
        "print(\"\\n=== Backward Chaining ===\")\n",
        "if backward_chaining(rules, facts, goal):\n",
        "    print(f\"\\nConclusion: {goal} is TRUE\")\n",
        "else:\n",
        "    print(f\"\\nConclusion: {goal} is FALSE\")\n"
      ]
    }
  ]
}